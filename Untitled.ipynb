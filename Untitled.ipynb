{
 "cells": [
  {
   "cell_type": "code",
   "execution_count": 25,
   "id": "7d65a89f-6130-4e57-856e-9a410e2c2680",
   "metadata": {},
   "outputs": [],
   "source": [
    "import requests\n",
    "\n",
    "from bs4 import BeautifulSoup\n",
    "import numpy as np\n",
    "import pandas as pd\n",
    "from tqdm.notebook import tqdm"
   ]
  },
  {
   "cell_type": "code",
   "execution_count": null,
   "id": "a953622a-e31c-4318-a6d4-dccf0b414e29",
   "metadata": {},
   "outputs": [],
   "source": []
  },
  {
   "cell_type": "markdown",
   "id": "2986a4ef-e949-4d5d-b4d8-e3b9ef3ce974",
   "metadata": {},
   "source": [
    "### Scrape site"
   ]
  },
  {
   "cell_type": "code",
   "execution_count": 2,
   "id": "20b5113f-3bde-4876-9d54-fb06e209915c",
   "metadata": {},
   "outputs": [],
   "source": [
    "URL = 'https://www.urparts.com'"
   ]
  },
  {
   "cell_type": "code",
   "execution_count": 3,
   "id": "6e68f613-f7e6-47b3-9935-9ce1f1f1f589",
   "metadata": {},
   "outputs": [],
   "source": [
    "def comprehension_catch(item):\n",
    "    part_number = item.contents[0].split(' - ')[0].strip()\n",
    "    \n",
    "    try:\n",
    "        part_category = item.find('span').contents[0]\n",
    "    except AttributeError:\n",
    "        part_category = None\n",
    "    \n",
    "    return part_number, part_category"
   ]
  },
  {
   "cell_type": "code",
   "execution_count": 4,
   "id": "7b3b170a-844c-40fb-b733-475b762bf0ad",
   "metadata": {},
   "outputs": [],
   "source": [
    "def get_soup(url_header):\n",
    "    url = f'{URL}/{url_header}'\n",
    "    page = requests.get(url)\n",
    "    soup = BeautifulSoup(page.content, 'html.parser')\n",
    "    soup = soup.find('div', id='wrap')\n",
    "    soup = soup.find('div', id='wrap2')\n",
    "    soup = soup.find('div', id='contentWrapWide')\n",
    "    return soup"
   ]
  },
  {
   "cell_type": "code",
   "execution_count": 36,
   "id": "3a8ca90a-b2e0-4b02-8ef2-08ee896a0a7b",
   "metadata": {},
   "outputs": [],
   "source": [
    "def scrape_site():\n",
    "    url_header = 'index.cfm/page/catalogue'\n",
    "    soup = get_soup(url_header)\n",
    "    soup = soup.find('div', class_='c_container allmakes')\n",
    "    manufacturers = [[item.contents[0].strip(), item['href']] for item in soup.find_all('a')]\n",
    "    \n",
    "    all_categories = pd.DataFrame()\n",
    "    for manufacturer in tqdm(manufacturers[9:]):\n",
    "        soup = get_soup(manufacturer[1])\n",
    "        soup = soup.find('div', class_='c_container allmakes allcategories')\n",
    "        categories = [[item.contents[0].strip(), item['href']] for item in soup.find_all('a')]\n",
    "\n",
    "        all_models = pd.DataFrame()\n",
    "        for category in categories:\n",
    "            soup = get_soup(category[1])\n",
    "            soup = soup.find('div', class_='c_container allmodels')\n",
    "            models = [[item.contents[0].strip(), item['href']] for item in soup.find_all('a')]\n",
    "\n",
    "            all_parts = pd.DataFrame()\n",
    "            for model in models:\n",
    "                print('*')\n",
    "                try:\n",
    "                    soup = get_soup(model[1])\n",
    "                    soup = soup.find('div', class_='c_container allparts')\n",
    "                    soup = soup.find('div', class_='c_container allparts')\n",
    "                    parts = [comprehension_catch(item) for item in soup.find_all('a')]\n",
    "                    parts = pd.DataFrame(columns=['part_number', 'part_category'], data=parts)\n",
    "\n",
    "                    parts['model'] = model[0]\n",
    "                    all_parts = pd.concat([all_parts, parts])\n",
    "                except AttributeError as err:\n",
    "                    models_found = False\n",
    "                    model[1] = model[1].replace(' ', '%20')\n",
    "                    print(f'URL - {URL}/{model[1]} - is broken')\n",
    "\n",
    "            all_parts['category'] = category[0]\n",
    "            all_models = pd.concat([all_models, all_parts])\n",
    "\n",
    "        all_models['manufacturer'] = manufacturer[0]\n",
    "        # all_models = all_models[['manufacturer', 'category', 'model', 'part_category', 'part_number']]\n",
    "        all_categories = pd.concat([all_categories, all_models])\n",
    "    return all_categories"
   ]
  },
  {
   "cell_type": "code",
   "execution_count": 35,
   "id": "7a544352-489c-44ca-9c17-085c4d9ef867",
   "metadata": {},
   "outputs": [],
   "source": [
    "all_categories = scrape_site()"
   ]
  },
  {
   "cell_type": "code",
   "execution_count": 54,
   "id": "ea60ff84-ffc1-4569-b14b-769c61b1c2e0",
   "metadata": {},
   "outputs": [
    {
     "data": {
      "text/html": [
       "<div>\n",
       "<style scoped>\n",
       "    .dataframe tbody tr th:only-of-type {\n",
       "        vertical-align: middle;\n",
       "    }\n",
       "\n",
       "    .dataframe tbody tr th {\n",
       "        vertical-align: top;\n",
       "    }\n",
       "\n",
       "    .dataframe thead th {\n",
       "        text-align: right;\n",
       "    }\n",
       "</style>\n",
       "<table border=\"1\" class=\"dataframe\">\n",
       "  <thead>\n",
       "    <tr style=\"text-align: right;\">\n",
       "      <th></th>\n",
       "      <th>manufacturer</th>\n",
       "      <th>category</th>\n",
       "      <th>model</th>\n",
       "      <th>part_category</th>\n",
       "      <th>part_number</th>\n",
       "    </tr>\n",
       "  </thead>\n",
       "  <tbody>\n",
       "    <tr>\n",
       "      <th>0</th>\n",
       "      <td>Ammann</td>\n",
       "      <td>Roller Parts</td>\n",
       "      <td>ASC100</td>\n",
       "      <td>LEFT COVER</td>\n",
       "      <td>ND011710</td>\n",
       "    </tr>\n",
       "    <tr>\n",
       "      <th>1</th>\n",
       "      <td>Ammann</td>\n",
       "      <td>Roller Parts</td>\n",
       "      <td>ASC100</td>\n",
       "      <td>VIBRATOR</td>\n",
       "      <td>ND011758</td>\n",
       "    </tr>\n",
       "    <tr>\n",
       "      <th>2</th>\n",
       "      <td>Ammann</td>\n",
       "      <td>Roller Parts</td>\n",
       "      <td>ASC100</td>\n",
       "      <td>RIGHT COVER</td>\n",
       "      <td>ND011785</td>\n",
       "    </tr>\n",
       "    <tr>\n",
       "      <th>3</th>\n",
       "      <td>Ammann</td>\n",
       "      <td>Roller Parts</td>\n",
       "      <td>ASC100</td>\n",
       "      <td>ECCENTRIC</td>\n",
       "      <td>ND017673</td>\n",
       "    </tr>\n",
       "    <tr>\n",
       "      <th>4</th>\n",
       "      <td>Ammann</td>\n",
       "      <td>Roller Parts</td>\n",
       "      <td>ASC100</td>\n",
       "      <td>ECCENTRIC</td>\n",
       "      <td>ND017675</td>\n",
       "    </tr>\n",
       "    <tr>\n",
       "      <th>...</th>\n",
       "      <td>...</td>\n",
       "      <td>...</td>\n",
       "      <td>...</td>\n",
       "      <td>...</td>\n",
       "      <td>...</td>\n",
       "    </tr>\n",
       "    <tr>\n",
       "      <th>1020</th>\n",
       "      <td>Ammann</td>\n",
       "      <td>Roller Parts</td>\n",
       "      <td>VV910</td>\n",
       "      <td>STEEL PLATE</td>\n",
       "      <td>ND107500</td>\n",
       "    </tr>\n",
       "    <tr>\n",
       "      <th>1021</th>\n",
       "      <td>Ammann</td>\n",
       "      <td>Roller Parts</td>\n",
       "      <td>VV910</td>\n",
       "      <td>LOCK</td>\n",
       "      <td>ND107501</td>\n",
       "    </tr>\n",
       "    <tr>\n",
       "      <th>1022</th>\n",
       "      <td>Ammann</td>\n",
       "      <td>Roller Parts</td>\n",
       "      <td>VV910</td>\n",
       "      <td>RIVET</td>\n",
       "      <td>ND107502</td>\n",
       "    </tr>\n",
       "    <tr>\n",
       "      <th>1023</th>\n",
       "      <td>Ammann</td>\n",
       "      <td>Roller Parts</td>\n",
       "      <td>VV910</td>\n",
       "      <td>YOKE</td>\n",
       "      <td>ND107504</td>\n",
       "    </tr>\n",
       "    <tr>\n",
       "      <th>1024</th>\n",
       "      <td>Ammann</td>\n",
       "      <td>Roller Parts</td>\n",
       "      <td>VV910</td>\n",
       "      <td>SWITCH</td>\n",
       "      <td>ND118115</td>\n",
       "    </tr>\n",
       "  </tbody>\n",
       "</table>\n",
       "<p>26412 rows × 5 columns</p>\n",
       "</div>"
      ],
      "text/plain": [
       "     manufacturer      category   model part_category part_number\n",
       "0          Ammann  Roller Parts  ASC100    LEFT COVER    ND011710\n",
       "1          Ammann  Roller Parts  ASC100      VIBRATOR    ND011758\n",
       "2          Ammann  Roller Parts  ASC100   RIGHT COVER    ND011785\n",
       "3          Ammann  Roller Parts  ASC100     ECCENTRIC    ND017673\n",
       "4          Ammann  Roller Parts  ASC100     ECCENTRIC    ND017675\n",
       "...           ...           ...     ...           ...         ...\n",
       "1020       Ammann  Roller Parts   VV910   STEEL PLATE    ND107500\n",
       "1021       Ammann  Roller Parts   VV910          LOCK    ND107501\n",
       "1022       Ammann  Roller Parts   VV910         RIVET    ND107502\n",
       "1023       Ammann  Roller Parts   VV910          YOKE    ND107504\n",
       "1024       Ammann  Roller Parts   VV910        SWITCH    ND118115\n",
       "\n",
       "[26412 rows x 5 columns]"
      ]
     },
     "execution_count": 54,
     "metadata": {},
     "output_type": "execute_result"
    }
   ],
   "source": [
    "all_categories"
   ]
  },
  {
   "cell_type": "code",
   "execution_count": null,
   "id": "eb51cc7f-0f0c-4bec-b76f-c6531277fc2d",
   "metadata": {},
   "outputs": [],
   "source": []
  },
  {
   "cell_type": "code",
   "execution_count": null,
   "id": "578455f7-40f0-41e2-ae6f-bf7a8410574f",
   "metadata": {},
   "outputs": [],
   "source": []
  },
  {
   "cell_type": "code",
   "execution_count": null,
   "id": "fc51e1fe-711d-418b-a592-ed21852f3588",
   "metadata": {},
   "outputs": [],
   "source": []
  },
  {
   "cell_type": "code",
   "execution_count": 24,
   "id": "3bef7f6c-90f3-4e31-99ed-802bd244ee77",
   "metadata": {},
   "outputs": [],
   "source": [
    "url_header = 'index.cfm/page/catalogue'"
   ]
  },
  {
   "cell_type": "code",
   "execution_count": 25,
   "id": "8263d043-ccc2-4631-9444-667bd3fe38fa",
   "metadata": {},
   "outputs": [],
   "source": [
    "soup = get_soup(url_header)\n",
    "soup = soup.find('div', class_='c_container allmakes')"
   ]
  },
  {
   "cell_type": "code",
   "execution_count": 26,
   "id": "e73aa023-7d19-42fb-8e45-2a5c7f076d90",
   "metadata": {},
   "outputs": [],
   "source": [
    "manufacturers = [[item.contents[0].strip(), item['href']] for item in soup.find_all('a')]"
   ]
  },
  {
   "cell_type": "code",
   "execution_count": 27,
   "id": "7bc995a2-d106-4e2b-b334-5e9ae7e2c7a7",
   "metadata": {},
   "outputs": [
    {
     "data": {
      "text/plain": [
       "[['Ammann', 'index.cfm/page/catalogue/Ammann'],\n",
       " ['Atlas', 'index.cfm/page/catalogue/Atlas'],\n",
       " ['Atlas-Copco', 'index.cfm/page/catalogue/Atlas-Copco'],\n",
       " ['Bell', 'index.cfm/page/catalogue/Bell'],\n",
       " ['Bomag', 'index.cfm/page/catalogue/Bomag'],\n",
       " ['Doosan', 'index.cfm/page/catalogue/Doosan'],\n",
       " ['FAI', 'index.cfm/page/catalogue/FAI'],\n",
       " ['Hitachi', 'index.cfm/page/catalogue/Hitachi'],\n",
       " ['Hyundai', 'index.cfm/page/catalogue/Hyundai'],\n",
       " ['Isuzu', 'index.cfm/page/catalogue/Isuzu'],\n",
       " ['JCB', 'index.cfm/page/catalogue/JCB'],\n",
       " ['Kawasaki', 'index.cfm/page/catalogue/Kawasaki'],\n",
       " ['Komatsu', 'index.cfm/page/catalogue/Komatsu'],\n",
       " ['Mitsubishi', 'index.cfm/page/catalogue/Mitsubishi'],\n",
       " ['Moxy', 'index.cfm/page/catalogue/Moxy'],\n",
       " ['Volvo', 'index.cfm/page/catalogue/Volvo']]"
      ]
     },
     "execution_count": 27,
     "metadata": {},
     "output_type": "execute_result"
    }
   ],
   "source": [
    "manufacturers"
   ]
  },
  {
   "cell_type": "code",
   "execution_count": 34,
   "id": "a0a556b6-220b-45ab-b78a-eac2527ed982",
   "metadata": {},
   "outputs": [],
   "source": [
    "all_categories = pd.DataFrame()\n",
    "for manufacturer in tqdm(manufacturers[9:]):\n",
    "    soup = get_soup(manufacturer[1])\n",
    "    soup = soup.find('div', class_='c_container allmakes allcategories')\n",
    "    categories = [[item.contents[0].strip(), item['href']] for item in soup.find_all('a')]\n",
    "\n",
    "    all_models = pd.DataFrame()\n",
    "    for category in categories:\n",
    "        soup = get_soup(category[1])\n",
    "        soup = soup.find('div', class_='c_container allmodels')\n",
    "        models = [[item.contents[0].strip(), item['href']] for item in soup.find_all('a')]\n",
    "        \n",
    "        all_parts = pd.DataFrame()\n",
    "        for model in models:\n",
    "            try:\n",
    "                soup = get_soup(model[1])\n",
    "                soup = soup.find('div', class_='c_container allparts')\n",
    "                soup = soup.find('div', class_='c_container allparts')\n",
    "                parts = [comprehension_catch(item) for item in soup.find_all('a')]\n",
    "                parts = pd.DataFrame(columns=['part_number', 'part_category'], data=parts)\n",
    "                \n",
    "                parts['model'] = model[0]\n",
    "                all_parts = pd.concat([all_parts, parts])\n",
    "            except AttributeError as err:\n",
    "                models_found = False\n",
    "                model[1] = model[1].replace(' ', '%20')\n",
    "                print(f'URL - {URL}/{model[1]} - is broken')\n",
    "\n",
    "        all_parts['category'] = category[0]\n",
    "        all_models = pd.concat([all_models, all_parts])\n",
    "\n",
    "    all_models['manufacturer'] = manufacturer[0]\n",
    "    # all_models = all_models[['manufacturer', 'category', 'model', 'part_category', 'part_number']]\n",
    "    all_categories = pd.concat([all_categories, all_models])"
   ]
  },
  {
   "cell_type": "code",
   "execution_count": null,
   "id": "d63e6cc8-06cb-4bcd-bea7-aea3e5de965d",
   "metadata": {},
   "outputs": [],
   "source": [
    "all_categories.head()"
   ]
  },
  {
   "cell_type": "code",
   "execution_count": null,
   "id": "fede2d17-8355-49b2-96d3-d1f370d0decf",
   "metadata": {},
   "outputs": [],
   "source": [
    "len(all_categories)"
   ]
  },
  {
   "cell_type": "code",
   "execution_count": null,
   "id": "de709dfc-04d2-493b-b9e0-5e280c53be81",
   "metadata": {},
   "outputs": [],
   "source": []
  },
  {
   "cell_type": "code",
   "execution_count": null,
   "id": "232c4f75-c36b-4a7d-89a9-ee460d8ff05a",
   "metadata": {},
   "outputs": [],
   "source": []
  },
  {
   "cell_type": "code",
   "execution_count": 81,
   "id": "09b03a09-8c00-4c44-96a1-a4f450dd8aee",
   "metadata": {},
   "outputs": [],
   "source": [
    "from sqlalchemy import create_engine\n",
    "from sqlalchemy.sql import text"
   ]
  },
  {
   "cell_type": "code",
   "execution_count": 82,
   "id": "76fdfe06-e68d-497c-ad48-a47742fcb384",
   "metadata": {},
   "outputs": [],
   "source": [
    "hostname=\"0.0.0.0:3306\"\n",
    "dbname=\"test_db\"\n",
    "uname=\"root\"\n",
    "pwd=\"password\""
   ]
  },
  {
   "cell_type": "code",
   "execution_count": 83,
   "id": "b65179b4-affd-4816-a8bb-05057d7f011c",
   "metadata": {},
   "outputs": [],
   "source": [
    "engine = create_engine(f'mysql+pymysql://{uname}:{pwd}@{hostname}')"
   ]
  },
  {
   "cell_type": "code",
   "execution_count": 84,
   "id": "79f90b61-a505-4b36-9160-4c583610ca2e",
   "metadata": {},
   "outputs": [
    {
     "name": "stderr",
     "output_type": "stream",
     "text": [
      "Exception during reset or similar\n",
      "Traceback (most recent call last):\n",
      "  File \"/Users/belyatskiy/miniconda3/envs/anaconda39/lib/python3.9/site-packages/sqlalchemy/pool/base.py\", line 739, in _finalize_fairy\n",
      "    fairy._reset(pool)\n",
      "  File \"/Users/belyatskiy/miniconda3/envs/anaconda39/lib/python3.9/site-packages/sqlalchemy/pool/base.py\", line 988, in _reset\n",
      "    pool._dialect.do_rollback(self)\n",
      "  File \"/Users/belyatskiy/miniconda3/envs/anaconda39/lib/python3.9/site-packages/sqlalchemy/engine/default.py\", line 682, in do_rollback\n",
      "    dbapi_connection.rollback()\n",
      "  File \"/Users/belyatskiy/miniconda3/envs/anaconda39/lib/python3.9/site-packages/pymysql/connections.py\", line 480, in rollback\n",
      "    self._read_ok_packet()\n",
      "  File \"/Users/belyatskiy/miniconda3/envs/anaconda39/lib/python3.9/site-packages/pymysql/connections.py\", line 443, in _read_ok_packet\n",
      "    pkt = self._read_packet()\n",
      "  File \"/Users/belyatskiy/miniconda3/envs/anaconda39/lib/python3.9/site-packages/pymysql/connections.py\", line 692, in _read_packet\n",
      "    packet_header = self._read_bytes(4)\n",
      "  File \"/Users/belyatskiy/miniconda3/envs/anaconda39/lib/python3.9/site-packages/pymysql/connections.py\", line 748, in _read_bytes\n",
      "    raise err.OperationalError(\n",
      "pymysql.err.OperationalError: (2013, 'Lost connection to MySQL server during query')\n"
     ]
    }
   ],
   "source": [
    "connection = engine.connect()"
   ]
  },
  {
   "cell_type": "code",
   "execution_count": 85,
   "id": "7bff4b37-d5db-45eb-ab34-d12cd762e66d",
   "metadata": {},
   "outputs": [],
   "source": [
    "statement = text(f\"DROP DATABASE IF EXISTS {dbname}\")"
   ]
  },
  {
   "cell_type": "code",
   "execution_count": 86,
   "id": "f1daf207-0786-4bbd-9025-21eb395d4be3",
   "metadata": {},
   "outputs": [
    {
     "data": {
      "text/plain": [
       "<sqlalchemy.engine.cursor.LegacyCursorResult at 0x128b34130>"
      ]
     },
     "execution_count": 86,
     "metadata": {},
     "output_type": "execute_result"
    }
   ],
   "source": [
    "connection.execute(statement)"
   ]
  },
  {
   "cell_type": "code",
   "execution_count": 87,
   "id": "566284f4-2335-4d73-b959-6cfef2f6fced",
   "metadata": {},
   "outputs": [],
   "source": [
    "statement = text(f\"CREATE DATABASE {dbname}\")"
   ]
  },
  {
   "cell_type": "code",
   "execution_count": 88,
   "id": "a7a44815-49e2-4cd4-86bd-a76e7f0a8a4f",
   "metadata": {},
   "outputs": [
    {
     "data": {
      "text/plain": [
       "<sqlalchemy.engine.cursor.LegacyCursorResult at 0x128c91d90>"
      ]
     },
     "execution_count": 88,
     "metadata": {},
     "output_type": "execute_result"
    }
   ],
   "source": [
    "connection.execute(statement)"
   ]
  },
  {
   "cell_type": "code",
   "execution_count": null,
   "id": "5e700782-621a-45c1-ad41-044bea5a2802",
   "metadata": {},
   "outputs": [],
   "source": []
  },
  {
   "cell_type": "code",
   "execution_count": 89,
   "id": "d0d05125-d454-412e-a529-ec7674031332",
   "metadata": {},
   "outputs": [],
   "source": [
    "engine = create_engine(f'mysql+pymysql://{uname}:{pwd}@{hostname}/{dbname}')"
   ]
  },
  {
   "cell_type": "code",
   "execution_count": 90,
   "id": "3472c4fd-0996-49e3-8d9c-49c93bd4cafd",
   "metadata": {},
   "outputs": [
    {
     "data": {
      "text/html": [
       "<div>\n",
       "<style scoped>\n",
       "    .dataframe tbody tr th:only-of-type {\n",
       "        vertical-align: middle;\n",
       "    }\n",
       "\n",
       "    .dataframe tbody tr th {\n",
       "        vertical-align: top;\n",
       "    }\n",
       "\n",
       "    .dataframe thead th {\n",
       "        text-align: right;\n",
       "    }\n",
       "</style>\n",
       "<table border=\"1\" class=\"dataframe\">\n",
       "  <thead>\n",
       "    <tr style=\"text-align: right;\">\n",
       "      <th></th>\n",
       "      <th>name</th>\n",
       "      <th>test</th>\n",
       "    </tr>\n",
       "  </thead>\n",
       "  <tbody>\n",
       "    <tr>\n",
       "      <th>0</th>\n",
       "      <td>1</td>\n",
       "      <td>3</td>\n",
       "    </tr>\n",
       "    <tr>\n",
       "      <th>1</th>\n",
       "      <td>2</td>\n",
       "      <td>2</td>\n",
       "    </tr>\n",
       "    <tr>\n",
       "      <th>2</th>\n",
       "      <td>3</td>\n",
       "      <td>1</td>\n",
       "    </tr>\n",
       "  </tbody>\n",
       "</table>\n",
       "</div>"
      ],
      "text/plain": [
       "   name  test\n",
       "0     1     3\n",
       "1     2     2\n",
       "2     3     1"
      ]
     },
     "execution_count": 90,
     "metadata": {},
     "output_type": "execute_result"
    }
   ],
   "source": [
    "data = pd.DataFrame({'name': [1, 2, 3], 'test': [3, 2, 1]})\n",
    "data"
   ]
  },
  {
   "cell_type": "code",
   "execution_count": 100,
   "id": "9de15022-7c0f-4664-9b26-879a54c3920f",
   "metadata": {},
   "outputs": [
    {
     "data": {
      "text/plain": [
       "3"
      ]
     },
     "execution_count": 100,
     "metadata": {},
     "output_type": "execute_result"
    }
   ],
   "source": [
    "data.to_sql(name='users', con=engine, if_exists='append', index=False)"
   ]
  },
  {
   "cell_type": "code",
   "execution_count": 101,
   "id": "f81a4490-cc62-49da-93c0-9cf9282a2435",
   "metadata": {},
   "outputs": [
    {
     "data": {
      "text/html": [
       "<div>\n",
       "<style scoped>\n",
       "    .dataframe tbody tr th:only-of-type {\n",
       "        vertical-align: middle;\n",
       "    }\n",
       "\n",
       "    .dataframe tbody tr th {\n",
       "        vertical-align: top;\n",
       "    }\n",
       "\n",
       "    .dataframe thead th {\n",
       "        text-align: right;\n",
       "    }\n",
       "</style>\n",
       "<table border=\"1\" class=\"dataframe\">\n",
       "  <thead>\n",
       "    <tr style=\"text-align: right;\">\n",
       "      <th></th>\n",
       "      <th>name</th>\n",
       "      <th>test</th>\n",
       "    </tr>\n",
       "  </thead>\n",
       "  <tbody>\n",
       "    <tr>\n",
       "      <th>0</th>\n",
       "      <td>1</td>\n",
       "      <td>3</td>\n",
       "    </tr>\n",
       "    <tr>\n",
       "      <th>1</th>\n",
       "      <td>1</td>\n",
       "      <td>3</td>\n",
       "    </tr>\n",
       "    <tr>\n",
       "      <th>2</th>\n",
       "      <td>1</td>\n",
       "      <td>3</td>\n",
       "    </tr>\n",
       "    <tr>\n",
       "      <th>3</th>\n",
       "      <td>1</td>\n",
       "      <td>3</td>\n",
       "    </tr>\n",
       "    <tr>\n",
       "      <th>4</th>\n",
       "      <td>1</td>\n",
       "      <td>3</td>\n",
       "    </tr>\n",
       "    <tr>\n",
       "      <th>5</th>\n",
       "      <td>1</td>\n",
       "      <td>3</td>\n",
       "    </tr>\n",
       "  </tbody>\n",
       "</table>\n",
       "</div>"
      ],
      "text/plain": [
       "   name  test\n",
       "0     1     3\n",
       "1     1     3\n",
       "2     1     3\n",
       "3     1     3\n",
       "4     1     3\n",
       "5     1     3"
      ]
     },
     "execution_count": 101,
     "metadata": {},
     "output_type": "execute_result"
    }
   ],
   "source": [
    "pd.read_sql('SELECT * from test_db.users where name = 1;', con=engine)"
   ]
  },
  {
   "cell_type": "code",
   "execution_count": null,
   "id": "02f6f318-466a-4ba3-92d2-8510257d2e89",
   "metadata": {},
   "outputs": [],
   "source": []
  },
  {
   "cell_type": "code",
   "execution_count": null,
   "id": "dcbe356f-e6f4-4d57-a562-f0924149b4d1",
   "metadata": {},
   "outputs": [],
   "source": []
  },
  {
   "cell_type": "code",
   "execution_count": null,
   "id": "a68be604-3616-4880-ab97-64052b3684b3",
   "metadata": {},
   "outputs": [],
   "source": []
  },
  {
   "cell_type": "code",
   "execution_count": null,
   "id": "767b11fe-c662-4e39-8b80-f579d9cb94b9",
   "metadata": {},
   "outputs": [],
   "source": []
  },
  {
   "cell_type": "code",
   "execution_count": 49,
   "id": "0232c77f-1d44-4f7a-97ac-b7217c7f770a",
   "metadata": {},
   "outputs": [
    {
     "ename": "NameError",
     "evalue": "name 'mysql' is not defined",
     "output_type": "error",
     "traceback": [
      "\u001b[0;31m---------------------------------------------------------------------------\u001b[0m",
      "\u001b[0;31mNameError\u001b[0m                                 Traceback (most recent call last)",
      "Input \u001b[0;32mIn [49]\u001b[0m, in \u001b[0;36m<module>\u001b[0;34m\u001b[0m\n\u001b[0;32m----> 1\u001b[0m mydb \u001b[38;5;241m=\u001b[39m \u001b[43mmysql\u001b[49m\u001b[38;5;241m.\u001b[39mconnector\u001b[38;5;241m.\u001b[39mconnect(\n\u001b[1;32m      2\u001b[0m     host\u001b[38;5;241m=\u001b[39m\u001b[38;5;124m\"\u001b[39m\u001b[38;5;124m0.0.0.0\u001b[39m\u001b[38;5;124m\"\u001b[39m,\n\u001b[1;32m      3\u001b[0m     user\u001b[38;5;241m=\u001b[39m\u001b[38;5;124m\"\u001b[39m\u001b[38;5;124mroot\u001b[39m\u001b[38;5;124m\"\u001b[39m,\n\u001b[1;32m      4\u001b[0m     password\u001b[38;5;241m=\u001b[39m\u001b[38;5;124m\"\u001b[39m\u001b[38;5;124mpassword\u001b[39m\u001b[38;5;124m\"\u001b[39m,\n\u001b[1;32m      5\u001b[0m     database\u001b[38;5;241m=\u001b[39m\u001b[38;5;124m'\u001b[39m\u001b[38;5;124mtest_db\u001b[39m\u001b[38;5;124m'\u001b[39m,\n\u001b[1;32m      6\u001b[0m     port\u001b[38;5;241m=\u001b[39m\u001b[38;5;241m3306\u001b[39m\n\u001b[1;32m      7\u001b[0m )\n",
      "\u001b[0;31mNameError\u001b[0m: name 'mysql' is not defined"
     ]
    }
   ],
   "source": [
    "mydb = mysql.connector.connect(\n",
    "    host=\"0.0.0.0\",\n",
    "    user=\"root\",\n",
    "    password=\"password\",\n",
    "    database='test_db',\n",
    "    port=3306\n",
    ")"
   ]
  },
  {
   "cell_type": "code",
   "execution_count": 43,
   "id": "533734a0-c02b-49d1-a852-5fbf474073b9",
   "metadata": {},
   "outputs": [],
   "source": [
    "cursor = mydb.cursor()"
   ]
  },
  {
   "cell_type": "code",
   "execution_count": 44,
   "id": "626ff607-cf42-408d-bac3-72da74d5356c",
   "metadata": {},
   "outputs": [],
   "source": [
    "cursor.execute(\"DROP TABLE IF EXISTS manufacturers\")"
   ]
  },
  {
   "cell_type": "code",
   "execution_count": 45,
   "id": "b545b35f-0e95-4ef9-85f7-003b60635307",
   "metadata": {},
   "outputs": [],
   "source": [
    "cursor.execute(\"CREATE TABLE widgets (name VARCHAR(255), description VARCHAR(255))\")"
   ]
  },
  {
   "cell_type": "code",
   "execution_count": 47,
   "id": "54bff2f1-3998-4421-9a90-788909d55488",
   "metadata": {},
   "outputs": [],
   "source": [
    "data = pd.DataFrame({'name': ['1', '2', '3'], 'description': [1, 2, 3]})"
   ]
  },
  {
   "cell_type": "code",
   "execution_count": 48,
   "id": "6a4f297d-1d68-4d7b-903f-9a47a2575356",
   "metadata": {},
   "outputs": [
    {
     "data": {
      "text/html": [
       "<div>\n",
       "<style scoped>\n",
       "    .dataframe tbody tr th:only-of-type {\n",
       "        vertical-align: middle;\n",
       "    }\n",
       "\n",
       "    .dataframe tbody tr th {\n",
       "        vertical-align: top;\n",
       "    }\n",
       "\n",
       "    .dataframe thead th {\n",
       "        text-align: right;\n",
       "    }\n",
       "</style>\n",
       "<table border=\"1\" class=\"dataframe\">\n",
       "  <thead>\n",
       "    <tr style=\"text-align: right;\">\n",
       "      <th></th>\n",
       "      <th>name</th>\n",
       "      <th>description</th>\n",
       "    </tr>\n",
       "  </thead>\n",
       "  <tbody>\n",
       "    <tr>\n",
       "      <th>0</th>\n",
       "      <td>1</td>\n",
       "      <td>1</td>\n",
       "    </tr>\n",
       "    <tr>\n",
       "      <th>1</th>\n",
       "      <td>2</td>\n",
       "      <td>2</td>\n",
       "    </tr>\n",
       "    <tr>\n",
       "      <th>2</th>\n",
       "      <td>3</td>\n",
       "      <td>3</td>\n",
       "    </tr>\n",
       "  </tbody>\n",
       "</table>\n",
       "</div>"
      ],
      "text/plain": [
       "  name  description\n",
       "0    1            1\n",
       "1    2            2\n",
       "2    3            3"
      ]
     },
     "execution_count": 48,
     "metadata": {},
     "output_type": "execute_result"
    }
   ],
   "source": [
    "data"
   ]
  },
  {
   "cell_type": "code",
   "execution_count": 50,
   "id": "0d804da8-aefc-4364-915b-812ad72c10a9",
   "metadata": {},
   "outputs": [],
   "source": [
    "from sqlalchemy import create_engine\n",
    "from sqlalchemy.sql import text"
   ]
  },
  {
   "cell_type": "code",
   "execution_count": 51,
   "id": "5fa4c171-6fc0-471c-aa68-fbe9a7bd002e",
   "metadata": {},
   "outputs": [],
   "source": [
    "hostname=\"0.0.0.0\"\n",
    "dbname=\"test_db\"\n",
    "uname=\"root\"\n",
    "pwd=\"password\""
   ]
  },
  {
   "cell_type": "code",
   "execution_count": 90,
   "id": "09b0c0ef-5aed-4354-b21e-912c7de56792",
   "metadata": {},
   "outputs": [],
   "source": [
    "engine = create_engine(\"mysql+pymysql://{user}:{pw}@{host}/{db}\".format(host=hostname, db=dbname, user=uname, pw=pwd))"
   ]
  },
  {
   "cell_type": "code",
   "execution_count": 91,
   "id": "78928ef6-0049-4944-8329-b357e88f7084",
   "metadata": {},
   "outputs": [],
   "source": [
    "connection = engine.connect()"
   ]
  },
  {
   "cell_type": "code",
   "execution_count": null,
   "id": "95b73be6-da8b-43a6-b6f7-d99d81db47d6",
   "metadata": {},
   "outputs": [],
   "source": [
    "statement = text(\"\")"
   ]
  },
  {
   "cell_type": "code",
   "execution_count": null,
   "id": "ccc6a536-1e3e-46e1-b15b-1438d25e8834",
   "metadata": {},
   "outputs": [],
   "source": []
  },
  {
   "cell_type": "code",
   "execution_count": null,
   "id": "9c018421-c10d-4b73-8e18-f8b24f5df83b",
   "metadata": {},
   "outputs": [],
   "source": []
  },
  {
   "cell_type": "code",
   "execution_count": 116,
   "id": "8c27a426-e838-47cc-8274-588b30d63696",
   "metadata": {},
   "outputs": [],
   "source": [
    "# data.to_sql(name='users', con=engine, if_exists='replace', index=False)"
   ]
  },
  {
   "cell_type": "code",
   "execution_count": 75,
   "id": "c803ec99-e1b1-4f76-9041-43c7bd178aa4",
   "metadata": {},
   "outputs": [
    {
     "data": {
      "text/plain": [
       "3"
      ]
     },
     "execution_count": 75,
     "metadata": {},
     "output_type": "execute_result"
    }
   ],
   "source": [
    "data.to_sql(name='users', con=engine, if_exists='append', index=False)"
   ]
  },
  {
   "cell_type": "code",
   "execution_count": 87,
   "id": "f2f31deb-ee70-4ddb-98dd-f3884babf94d",
   "metadata": {},
   "outputs": [
    {
     "data": {
      "text/html": [
       "<div>\n",
       "<style scoped>\n",
       "    .dataframe tbody tr th:only-of-type {\n",
       "        vertical-align: middle;\n",
       "    }\n",
       "\n",
       "    .dataframe tbody tr th {\n",
       "        vertical-align: top;\n",
       "    }\n",
       "\n",
       "    .dataframe thead th {\n",
       "        text-align: right;\n",
       "    }\n",
       "</style>\n",
       "<table border=\"1\" class=\"dataframe\">\n",
       "  <thead>\n",
       "    <tr style=\"text-align: right;\">\n",
       "      <th></th>\n",
       "      <th>name</th>\n",
       "      <th>description</th>\n",
       "    </tr>\n",
       "  </thead>\n",
       "  <tbody>\n",
       "    <tr>\n",
       "      <th>0</th>\n",
       "      <td>1</td>\n",
       "      <td>1</td>\n",
       "    </tr>\n",
       "    <tr>\n",
       "      <th>1</th>\n",
       "      <td>1</td>\n",
       "      <td>1</td>\n",
       "    </tr>\n",
       "    <tr>\n",
       "      <th>2</th>\n",
       "      <td>1</td>\n",
       "      <td>1</td>\n",
       "    </tr>\n",
       "    <tr>\n",
       "      <th>3</th>\n",
       "      <td>1</td>\n",
       "      <td>1</td>\n",
       "    </tr>\n",
       "    <tr>\n",
       "      <th>4</th>\n",
       "      <td>1</td>\n",
       "      <td>1</td>\n",
       "    </tr>\n",
       "    <tr>\n",
       "      <th>5</th>\n",
       "      <td>1</td>\n",
       "      <td>1</td>\n",
       "    </tr>\n",
       "  </tbody>\n",
       "</table>\n",
       "</div>"
      ],
      "text/plain": [
       "  name  description\n",
       "0    1            1\n",
       "1    1            1\n",
       "2    1            1\n",
       "3    1            1\n",
       "4    1            1\n",
       "5    1            1"
      ]
     },
     "execution_count": 87,
     "metadata": {},
     "output_type": "execute_result"
    }
   ],
   "source": [
    "pd.read_sql('SELECT * from test_db.users where name = 1;', con=engine)"
   ]
  },
  {
   "cell_type": "code",
   "execution_count": null,
   "id": "d0f505dd-2e62-41ca-b2aa-17555b105403",
   "metadata": {},
   "outputs": [],
   "source": []
  },
  {
   "cell_type": "code",
   "execution_count": null,
   "id": "8e5aa1e7-1abf-41ed-a196-6dcba2447b45",
   "metadata": {},
   "outputs": [],
   "source": []
  },
  {
   "cell_type": "code",
   "execution_count": 102,
   "id": "c9db96d8-d350-4ed1-b340-e07c312c8fe2",
   "metadata": {},
   "outputs": [],
   "source": [
    "import configparser\n",
    "\n",
    "from sqlalchemy import create_engine\n",
    "from sqlalchemy.sql import text\n",
    "\n",
    "\n",
    "class Database:\n",
    "    def __init__(self, config_path: str = 'mysql.ini'):\n",
    "        config = configparser.ConfigParser()\n",
    "        config.read(config_path)\n",
    "\n",
    "        self.host = config['Database']['host']\n",
    "        self.port = config['Database']['port']\n",
    "        self.database = config['Database']['database']\n",
    "        self.user = config['Database']['user']\n",
    "        self.password = config['Database']['password']\n",
    "        self.table = config['Database']['table']\n",
    "\n",
    "    def connect(self, initial_connection: bool = False):\n",
    "        if initial_connection:\n",
    "            engine = create_engine(f'mysql+pymysql://{self.user}:{self.password}@{self.host}:{self.port}')\n",
    "            with engine.connect() as connection:\n",
    "                statement = text(f\"DROP DATABASE IF EXISTS {self.database}\")\n",
    "                connection.execute(statement)\n",
    "\n",
    "                statement = text(f\"CREATE DATABASE {self.database}\")\n",
    "                connection.execute(statement)\n",
    "\n",
    "        engine = create_engine(f'mysql+pymysql://{self.user}:{self.password}@{self.host}:{self.port}/{self.database}')\n",
    "        self.engine = engine\n"
   ]
  },
  {
   "cell_type": "code",
   "execution_count": 103,
   "id": "ab3d74ef-31c0-4384-a5c5-ac7dad0f049f",
   "metadata": {},
   "outputs": [],
   "source": [
    "db = Database()"
   ]
  },
  {
   "cell_type": "code",
   "execution_count": 104,
   "id": "e2b4ccc6-7775-493e-91f5-f3a0dd4bd876",
   "metadata": {},
   "outputs": [],
   "source": [
    "db.connect(initial_connection=True)"
   ]
  },
  {
   "cell_type": "code",
   "execution_count": 105,
   "id": "94fa8ee4-3fd7-4ef5-8bf7-01f42735c9d1",
   "metadata": {},
   "outputs": [
    {
     "data": {
      "text/html": [
       "<div>\n",
       "<style scoped>\n",
       "    .dataframe tbody tr th:only-of-type {\n",
       "        vertical-align: middle;\n",
       "    }\n",
       "\n",
       "    .dataframe tbody tr th {\n",
       "        vertical-align: top;\n",
       "    }\n",
       "\n",
       "    .dataframe thead th {\n",
       "        text-align: right;\n",
       "    }\n",
       "</style>\n",
       "<table border=\"1\" class=\"dataframe\">\n",
       "  <thead>\n",
       "    <tr style=\"text-align: right;\">\n",
       "      <th></th>\n",
       "      <th>name</th>\n",
       "      <th>test</th>\n",
       "    </tr>\n",
       "  </thead>\n",
       "  <tbody>\n",
       "    <tr>\n",
       "      <th>0</th>\n",
       "      <td>1</td>\n",
       "      <td>3</td>\n",
       "    </tr>\n",
       "    <tr>\n",
       "      <th>1</th>\n",
       "      <td>2</td>\n",
       "      <td>2</td>\n",
       "    </tr>\n",
       "    <tr>\n",
       "      <th>2</th>\n",
       "      <td>3</td>\n",
       "      <td>1</td>\n",
       "    </tr>\n",
       "  </tbody>\n",
       "</table>\n",
       "</div>"
      ],
      "text/plain": [
       "   name  test\n",
       "0     1     3\n",
       "1     2     2\n",
       "2     3     1"
      ]
     },
     "execution_count": 105,
     "metadata": {},
     "output_type": "execute_result"
    }
   ],
   "source": [
    "data = pd.DataFrame({'name': [1, 2, 3], 'test': [3, 2, 1]})\n",
    "data"
   ]
  },
  {
   "cell_type": "code",
   "execution_count": 108,
   "id": "0cc03d81-25e4-4801-985c-6a055bb91a39",
   "metadata": {},
   "outputs": [
    {
     "data": {
      "text/plain": [
       "3"
      ]
     },
     "execution_count": 108,
     "metadata": {},
     "output_type": "execute_result"
    }
   ],
   "source": [
    "data.to_sql(name='users', con=db.engine, if_exists='append', index=False)"
   ]
  },
  {
   "cell_type": "code",
   "execution_count": 113,
   "id": "7d49e140-a87c-487b-884b-afcb5c6e2698",
   "metadata": {},
   "outputs": [
    {
     "data": {
      "text/html": [
       "<div>\n",
       "<style scoped>\n",
       "    .dataframe tbody tr th:only-of-type {\n",
       "        vertical-align: middle;\n",
       "    }\n",
       "\n",
       "    .dataframe tbody tr th {\n",
       "        vertical-align: top;\n",
       "    }\n",
       "\n",
       "    .dataframe thead th {\n",
       "        text-align: right;\n",
       "    }\n",
       "</style>\n",
       "<table border=\"1\" class=\"dataframe\">\n",
       "  <thead>\n",
       "    <tr style=\"text-align: right;\">\n",
       "      <th></th>\n",
       "      <th>name</th>\n",
       "      <th>test</th>\n",
       "    </tr>\n",
       "  </thead>\n",
       "  <tbody>\n",
       "    <tr>\n",
       "      <th>0</th>\n",
       "      <td>1</td>\n",
       "      <td>3</td>\n",
       "    </tr>\n",
       "    <tr>\n",
       "      <th>1</th>\n",
       "      <td>1</td>\n",
       "      <td>3</td>\n",
       "    </tr>\n",
       "    <tr>\n",
       "      <th>2</th>\n",
       "      <td>1</td>\n",
       "      <td>3</td>\n",
       "    </tr>\n",
       "  </tbody>\n",
       "</table>\n",
       "</div>"
      ],
      "text/plain": [
       "   name  test\n",
       "0     1     3\n",
       "1     1     3\n",
       "2     1     3"
      ]
     },
     "execution_count": 113,
     "metadata": {},
     "output_type": "execute_result"
    }
   ],
   "source": [
    "pd.read_sql(f'SELECT * from {db.database}.users where name = 1;', con=engine)"
   ]
  },
  {
   "cell_type": "code",
   "execution_count": null,
   "id": "93caf849-fbcf-4099-8230-555017667dfc",
   "metadata": {},
   "outputs": [],
   "source": []
  },
  {
   "cell_type": "code",
   "execution_count": null,
   "id": "c5cbb7a0-b8ad-4e36-8561-740eb791f9f7",
   "metadata": {},
   "outputs": [],
   "source": []
  }
 ],
 "metadata": {
  "kernelspec": {
   "display_name": "Python 3 (ipykernel)",
   "language": "python",
   "name": "python3"
  },
  "language_info": {
   "codemirror_mode": {
    "name": "ipython",
    "version": 3
   },
   "file_extension": ".py",
   "mimetype": "text/x-python",
   "name": "python",
   "nbconvert_exporter": "python",
   "pygments_lexer": "ipython3",
   "version": "3.9.7"
  }
 },
 "nbformat": 4,
 "nbformat_minor": 5
}
